{
    "cells": [
        {
            "cell_type": "markdown",
            "metadata": {},
            "source": [
                "### Lab-3 : Self-Practice\n",
                "\n",
                "#### In this week, your self-practice task will consist to analyze the impact of class imballance on the performance of the logistic regression model.\n",
                "\n",
                "#### Class imbalance is very common in real life. For example, in a classification problem to predict whether a person has a certain very rare disease, the dataset will always contain more negative samples than positive ones. This situation can have a significant impact on the performance of the model. You will analyze this situation in the case of the Titanic dataset used in the lab."
            ]
        },
        {
            "cell_type": "markdown",
            "metadata": {},
            "source": [
                "### 1. Load the titanic dataset and <b>PLOT</b> the proportion of positive and negative samples (survived vs non survived)"
            ]
        },
        {
            "cell_type": "code",
            "execution_count": 432,
            "metadata": {},
            "outputs": [
                {
                    "data": {
                        "text/plain": [
                            "<BarContainer object of 2 artists>"
                        ]
                    },
                    "execution_count": 432,
                    "metadata": {},
                    "output_type": "execute_result"
                },
                {
                    "data": {
                        "image/png": "[encoded data removed]",
                        "text/plain": [
                            "<Figure size 432x288 with 1 Axes>"
                        ]
                    },
                    "metadata": {
                        "needs_background": "light"
                    },
                    "output_type": "display_data"
                }
            ],
            "source": [
                "### write your code here. Load the dataset and plot (barplot) proportion of each class \n",
                "import pandas as pd\n",
                "import matplotlib.pyplot as plt\n",
                "\n",
                "data = pd.read_csv('titanic.csv')\n",
                "data.drop('name',axis=1,inplace=True)\n",
                "survived = len(data[data['survived']==1]) / len(data)\n",
                "non_survived = len(data[data['survived']==0]) / len(data)\n",
                "fig = plt.figure()\n",
                "ax = fig.add_axes([0,0,1,1])\n",
                "langs = ['survived','non survived']\n",
                "ax.bar(langs, [survived, non_survived], color=['r','g'])"
            ]
        },
        {
            "cell_type": "markdown",
            "metadata": {},
            "source": [
                "#### Preprocess the data as it has been done in the lab, feel free to adapt"
            ]
        },
        {
            "cell_type": "code",
            "execution_count": 433,
            "metadata": {},
            "outputs": [
                {
                    "data": {
                        "text/html": [
                            "<div>\n",
                            "<style scoped>\n",
                            "    .dataframe tbody tr th:only-of-type {\n",
                            "        vertical-align: middle;\n",
                            "    }\n",
                            "\n",
                            "    .dataframe tbody tr th {\n",
                            "        vertical-align: top;\n",
                            "    }\n",
                            "\n",
                            "    .dataframe thead th {\n",
                            "        text-align: right;\n",
                            "    }\n",
                            "</style>\n",
                            "<table border=\"1\" class=\"dataframe\">\n",
                            "  <thead>\n",
                            "    <tr style=\"text-align: right;\">\n",
                            "      <th></th>\n",
                            "      <th>survived</th>\n",
                            "      <th>pclass</th>\n",
                            "      <th>age</th>\n",
                            "      <th>sibsp</th>\n",
                            "      <th>parch</th>\n",
                            "      <th>fare</th>\n",
                            "      <th>sex_male</th>\n",
                            "      <th>embarked_Q</th>\n",
                            "      <th>embarked_S</th>\n",
                            "    </tr>\n",
                            "  </thead>\n",
                            "  <tbody>\n",
                            "    <tr>\n",
                            "      <th>0</th>\n",
                            "      <td>1.0</td>\n",
                            "      <td>0.0</td>\n",
                            "      <td>0.361142</td>\n",
                            "      <td>0.000</td>\n",
                            "      <td>0.000000</td>\n",
                            "      <td>0.412503</td>\n",
                            "      <td>0.0</td>\n",
                            "      <td>0.0</td>\n",
                            "      <td>1.0</td>\n",
                            "    </tr>\n",
                            "    <tr>\n",
                            "      <th>1</th>\n",
                            "      <td>1.0</td>\n",
                            "      <td>0.0</td>\n",
                            "      <td>0.009395</td>\n",
                            "      <td>0.125</td>\n",
                            "      <td>0.222222</td>\n",
                            "      <td>0.295806</td>\n",
                            "      <td>1.0</td>\n",
                            "      <td>0.0</td>\n",
                            "      <td>1.0</td>\n",
                            "    </tr>\n",
                            "    <tr>\n",
                            "      <th>2</th>\n",
                            "      <td>0.0</td>\n",
                            "      <td>0.0</td>\n",
                            "      <td>0.022924</td>\n",
                            "      <td>0.125</td>\n",
                            "      <td>0.222222</td>\n",
                            "      <td>0.295806</td>\n",
                            "      <td>0.0</td>\n",
                            "      <td>0.0</td>\n",
                            "      <td>1.0</td>\n",
                            "    </tr>\n",
                            "    <tr>\n",
                            "      <th>3</th>\n",
                            "      <td>0.0</td>\n",
                            "      <td>0.0</td>\n",
                            "      <td>0.373669</td>\n",
                            "      <td>0.125</td>\n",
                            "      <td>0.222222</td>\n",
                            "      <td>0.295806</td>\n",
                            "      <td>1.0</td>\n",
                            "      <td>0.0</td>\n",
                            "      <td>1.0</td>\n",
                            "    </tr>\n",
                            "    <tr>\n",
                            "      <th>4</th>\n",
                            "      <td>0.0</td>\n",
                            "      <td>0.0</td>\n",
                            "      <td>0.311036</td>\n",
                            "      <td>0.125</td>\n",
                            "      <td>0.222222</td>\n",
                            "      <td>0.295806</td>\n",
                            "      <td>0.0</td>\n",
                            "      <td>0.0</td>\n",
                            "      <td>1.0</td>\n",
                            "    </tr>\n",
                            "    <tr>\n",
                            "      <th>...</th>\n",
                            "      <td>...</td>\n",
                            "      <td>...</td>\n",
                            "      <td>...</td>\n",
                            "      <td>...</td>\n",
                            "      <td>...</td>\n",
                            "      <td>...</td>\n",
                            "      <td>...</td>\n",
                            "      <td>...</td>\n",
                            "      <td>...</td>\n",
                            "    </tr>\n",
                            "    <tr>\n",
                            "      <th>1304</th>\n",
                            "      <td>0.0</td>\n",
                            "      <td>1.0</td>\n",
                            "      <td>0.179506</td>\n",
                            "      <td>0.125</td>\n",
                            "      <td>0.000000</td>\n",
                            "      <td>0.028213</td>\n",
                            "      <td>0.0</td>\n",
                            "      <td>0.0</td>\n",
                            "      <td>0.0</td>\n",
                            "    </tr>\n",
                            "    <tr>\n",
                            "      <th>1305</th>\n",
                            "      <td>0.0</td>\n",
                            "      <td>1.0</td>\n",
                            "      <td>0.298509</td>\n",
                            "      <td>0.125</td>\n",
                            "      <td>0.000000</td>\n",
                            "      <td>0.028213</td>\n",
                            "      <td>0.0</td>\n",
                            "      <td>0.0</td>\n",
                            "      <td>0.0</td>\n",
                            "    </tr>\n",
                            "    <tr>\n",
                            "      <th>1306</th>\n",
                            "      <td>0.0</td>\n",
                            "      <td>1.0</td>\n",
                            "      <td>0.329826</td>\n",
                            "      <td>0.000</td>\n",
                            "      <td>0.000000</td>\n",
                            "      <td>0.014102</td>\n",
                            "      <td>1.0</td>\n",
                            "      <td>0.0</td>\n",
                            "      <td>0.0</td>\n",
                            "    </tr>\n",
                            "    <tr>\n",
                            "      <th>1307</th>\n",
                            "      <td>0.0</td>\n",
                            "      <td>1.0</td>\n",
                            "      <td>0.336089</td>\n",
                            "      <td>0.000</td>\n",
                            "      <td>0.000000</td>\n",
                            "      <td>0.014102</td>\n",
                            "      <td>1.0</td>\n",
                            "      <td>0.0</td>\n",
                            "      <td>0.0</td>\n",
                            "    </tr>\n",
                            "    <tr>\n",
                            "      <th>1308</th>\n",
                            "      <td>0.0</td>\n",
                            "      <td>1.0</td>\n",
                            "      <td>0.361142</td>\n",
                            "      <td>0.000</td>\n",
                            "      <td>0.000000</td>\n",
                            "      <td>0.015371</td>\n",
                            "      <td>1.0</td>\n",
                            "      <td>0.0</td>\n",
                            "      <td>1.0</td>\n",
                            "    </tr>\n",
                            "  </tbody>\n",
                            "</table>\n",
                            "<p>1309 rows × 9 columns</p>\n",
                            "</div>"
                        ],
                        "text/plain": [
                            "      survived  pclass       age  sibsp     parch      fare  sex_male  \\\n",
                            "0          1.0     0.0  0.361142  0.000  0.000000  0.412503       0.0   \n",
                            "1          1.0     0.0  0.009395  0.125  0.222222  0.295806       1.0   \n",
                            "2          0.0     0.0  0.022924  0.125  0.222222  0.295806       0.0   \n",
                            "3          0.0     0.0  0.373669  0.125  0.222222  0.295806       1.0   \n",
                            "4          0.0     0.0  0.311036  0.125  0.222222  0.295806       0.0   \n",
                            "...        ...     ...       ...    ...       ...       ...       ...   \n",
                            "1304       0.0     1.0  0.179506  0.125  0.000000  0.028213       0.0   \n",
                            "1305       0.0     1.0  0.298509  0.125  0.000000  0.028213       0.0   \n",
                            "1306       0.0     1.0  0.329826  0.000  0.000000  0.014102       1.0   \n",
                            "1307       0.0     1.0  0.336089  0.000  0.000000  0.014102       1.0   \n",
                            "1308       0.0     1.0  0.361142  0.000  0.000000  0.015371       1.0   \n",
                            "\n",
                            "      embarked_Q  embarked_S  \n",
                            "0            0.0         1.0  \n",
                            "1            0.0         1.0  \n",
                            "2            0.0         1.0  \n",
                            "3            0.0         1.0  \n",
                            "4            0.0         1.0  \n",
                            "...          ...         ...  \n",
                            "1304         0.0         0.0  \n",
                            "1305         0.0         0.0  \n",
                            "1306         0.0         0.0  \n",
                            "1307         0.0         0.0  \n",
                            "1308         0.0         1.0  \n",
                            "\n",
                            "[1309 rows x 9 columns]"
                        ]
                    },
                    "execution_count": 433,
                    "metadata": {},
                    "output_type": "execute_result"
                }
            ],
            "source": [
                "#### preprocess the data\n",
                "from sklearn.impute import SimpleImputer\n",
                "from sklearn.preprocessing import OneHotEncoder\n",
                "from sklearn.preprocessing import MinMaxScaler\n",
                "\n",
                "# imputing missing values\n",
                "imputer = SimpleImputer(strategy='most_frequent')\n",
                "imputer.fit(data)\n",
                "data = pd.DataFrame(imputer.transform(data), columns=data.columns)\n",
                "\n",
                "# one-hot-encode categorical features\n",
                "def ohe_new_features(df, features_name, encoder):\n",
                "    new_feats = encoder.transform(df[features_name])\n",
                "    # create dataframe from encoded features with named columns\n",
                "    new_cols = pd.DataFrame(new_feats, dtype=int, columns=encoder.get_feature_names(features_name))\n",
                "    new_df = pd.concat([df, new_cols], axis=1)    \n",
                "    new_df.drop(features_name, axis=1, inplace=True)\n",
                "    return new_df\n",
                "\n",
                "encoder = OneHotEncoder(sparse=False, drop='first')\n",
                "f_names = ['sex', 'embarked']\n",
                "encoder.fit(data[f_names])\n",
                "data = ohe_new_features(data, f_names, encoder)\n",
                "\n",
                "# feature scaling\n",
                "scaler = MinMaxScaler()\n",
                "scaler.fit(data)\n",
                "data = pd.DataFrame(scaler.transform(data), columns=data.columns)\n",
                "data\n"
            ]
        },
        {
            "cell_type": "markdown",
            "metadata": {},
            "source": [
                "## 2. Impact of class imballance. \n",
                "##### Now, you will `artificially` imbalance the dataset. From the original dataset, create different dataset with the following class representations (drop samples from one class): \n",
                "##### 1. 20% vs 80%\n",
                "##### 2. 30% vs 70%\n",
                "##### 3. 40% vs 60%\n",
                "\n",
                "## Split each data into train and test set as in the lab; train logistic regression model for each setting and report (PLOT) the accuracy, precision, and recall of each model"
            ]
        },
        {
            "cell_type": "code",
            "execution_count": 434,
            "metadata": {},
            "outputs": [
                {
                    "name": "stdout",
                    "output_type": "stream",
                    "text": [
                        "202\n",
                        "809\n",
                        "346\n",
                        "809\n",
                        "500\n",
                        "750\n"
                    ]
                },
                {
                    "data": {
                        "image/png": "[encoded data removed]",
                        "text/plain": [
                            "<Figure size 432x288 with 1 Axes>"
                        ]
                    },
                    "metadata": {
                        "needs_background": "light"
                    },
                    "output_type": "display_data"
                }
            ],
            "source": [
                "### write your code here \n",
                "from sklearn.linear_model import LogisticRegression\n",
                "from sklearn import metrics\n",
                "from sklearn.model_selection import train_test_split\n",
                "\n",
                "def target_percent(data_set, percent):\n",
                "    survived = data_set[data_set['survived']==1]\n",
                "    non_survived = data_set[data_set['survived']==0]\n",
                "\n",
                "    if ( len(survived) / len(data_set) ) >= percent:\n",
                "        drop = int((len(non_survived) * percent) / (1-percent))\n",
                "        survived = survived.sample(n=drop)\n",
                "    elif ( len(survived) / len(data_set) ) < percent :\n",
                "        drop = int((len(survived) * (1-percent)) / percent)\n",
                "        non_survived = non_survived.sample(n=drop)\n",
                "    res = pd.concat([survived, non_survived],axis=0)\n",
                "    print(res[res['survived']==1]['survived'].count())\n",
                "    print(res[res['survived']==0]['survived'].count())\n",
                "    return res\n",
                "\n",
                "def train(data_set):\n",
                "    x_train, x_test, y_train, y_test = train_test_split(data_set.loc[:, 'pclass':], data_set['survived'],\n",
                "                                                    test_size=0.2, stratify=data_set['survived'])\n",
                "    clf = LogisticRegression(random_state=0).fit(x_train, y_train)\n",
                "    y_test_pred = clf.predict(x_test)\n",
                "    return y_test, y_test_pred\n",
                "\n",
                "\n",
                "percents = [0.2, 0.3, 0.4]\n",
                "ys_test = []\n",
                "ys_predicted = []\n",
                "accuracys = []\n",
                "precisions = []\n",
                "recalls = []\n",
                "targets = [target_percent(data, i) for i in percents]\n",
                "\n",
                "for target in targets:\n",
                "    y_test, y_pred = train(target)\n",
                "    ys_test.append(pd.DataFrame(y_test))\n",
                "    ys_predicted.append(pd.DataFrame(y_pred, columns=[\"survived\"], index=y_test.index))\n",
                "    accuracy, precision, recall = (metrics.accuracy_score(y_true=y_test, y_pred=y_pred), \n",
                "                                     metrics.precision_score(y_true=y_test, y_pred=y_pred),\n",
                "                                        metrics.recall_score(y_true=y_test, y_pred=y_pred))\n",
                "    accuracys.append(accuracy)\n",
                "    precisions.append(precision)\n",
                "    recalls.append(recall)\n",
                "\n",
                "plt.plot(percents, accuracys, label=\"accuracy\")\n",
                "plt.plot(percents, precisions, label=\"precision\")\n",
                "plt.plot(percents, recalls, label=\"recall\")\n",
                "plt.legend()\n",
                "plt.show()\n"
            ]
        },
        {
            "cell_type": "markdown",
            "metadata": {},
            "source": [
                "## 3. Analyse the class-wise accuracy. \n",
                "#### For each model, plot (bar plots) the class-wise accuracy, i.e., the accuracy for each class."
            ]
        },
        {
            "cell_type": "code",
            "execution_count": 435,
            "metadata": {},
            "outputs": [
                {
                    "data": {
                        "image/png": "[encoded data removed]",
                        "text/plain": [
                            "<Figure size 432x288 with 1 Axes>"
                        ]
                    },
                    "metadata": {
                        "needs_background": "light"
                    },
                    "output_type": "display_data"
                }
            ],
            "source": [
                "#### write your code \n",
                "import numpy as np\n",
                "\n",
                "survived_accuracy = []\n",
                "non_survived_accuracy = []\n",
                "\n",
                "for y_test, y_pred in zip(ys_test, ys_predicted):\n",
                "    survived_index = y_test['survived'] == 1\n",
                "    non_survived_index = y_test['survived'] == 0\n",
                "    survived_accuracy.append(metrics.accuracy_score(y_test[survived_index], y_pred[survived_index]))\n",
                "    non_survived_accuracy.append(metrics.accuracy_score(y_test[non_survived_index], y_pred[non_survived_index]))\n",
                "\n",
                "X = np.arange(3)\n",
                "fig = plt.figure()\n",
                "ax = fig.add_axes([0,0,1,1])\n",
                "percent = ['20%', '30%', '40%']\n",
                "accuracys_label = ['survived', 'non survived']\n",
                "bar_width = 0.35\n",
                "\n",
                "\n",
                "plt.bar(X,survived_accuracy,bar_width,color='red',edgecolor='black')\n",
                "plt.bar(X+bar_width,non_survived_accuracy,bar_width,color='green',edgecolor='black')\n",
                "plt.xticks(X, percent)\n",
                "plt.xlabel('Percent', fontsize=16)\n",
                "plt.ylabel('Accuracys', fontsize=16)\n",
                "plt.legend(accuracys_label,loc=2)\n",
                "plt.show()"
            ]
        },
        {
            "cell_type": "markdown",
            "metadata": {},
            "source": [
                "## 4. Report \n",
                "### Write a small report (few sentences) to discuss from your analysis, the impact of class imballance on logistic model's performance "
            ]
        },
        {
            "cell_type": "markdown",
            "metadata": {},
            "source": [
                "In this example we can say that the accuracy of the class prediction decreases as the proportion increases because it is harder to guess that the person will die. In addition, we can see that the model recall increases, which means that it is easier for the model to recognize a survivor depending on the proportion."
            ]
        }
    ],
    "metadata": {
        "kernelspec": {
            "display_name": "Python 3.9.7 ('base')",
            "language": "python",
            "name": "python3"
        },
        "language_info": {
            "codemirror_mode": {
                "name": "ipython",
                "version": 3
            },
            "file_extension": ".py",
            "mimetype": "text/x-python",
            "name": "python",
            "nbconvert_exporter": "python",
            "pygments_lexer": "ipython3",
            "version": "3.9.7"
        },
        "orig_nbformat": 4,
        "vscode": {
            "interpreter": {
                "hash": "4683ccb96e0792e9401b27c1ea84d5f0f1a3e792342b873a3d568ad77591c84e"
            }
        }
    },
    "nbformat": 4,
    "nbformat_minor": 2
}
