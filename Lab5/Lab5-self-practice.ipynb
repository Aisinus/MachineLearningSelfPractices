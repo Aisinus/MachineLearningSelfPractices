{
 "cells": [
  {
   "cell_type": "markdown",
   "id": "0960d8ea",
   "metadata": {},
   "source": [
    "# Lab 5 - self practice\n",
    "\n",
    "## Objectives \n",
    "- understand how to compute covariance matrix from data\n",
    "- and how to compute eigen-vectors and eigen-values\n",
    "\n",
    "### Generating data ###"
   ]
  },
  {
   "cell_type": "code",
   "execution_count": 32,
   "id": "045bc019",
   "metadata": {},
   "outputs": [
    {
     "data": {
      "image/png": "[encoded data removed]",
      "text/plain": [
       "<Figure size 432x288 with 1 Axes>"
      ]
     },
     "metadata": {
      "needs_background": "light"
     },
     "output_type": "display_data"
    }
   ],
   "source": [
    "import numpy as np\n",
    "from matplotlib import pyplot as plt\n",
    "from sklearn.datasets import make_blobs, make_moons, make_circles\n",
    "\n",
    "# N is a sample size\n",
    "N = 25\n",
    "# we can fix a random seed. It allows us to get the same data\n",
    "np.random.seed(10)\n",
    "# form our data\n",
    "x = np.linspace(-5, -3, N)\n",
    "y = 10 + 2*x + np.random.random(size=(N,))\n",
    "data = np.stack([x,y], axis = 1)\n",
    "\n",
    "\n",
    "plt.title(\"Data\")\n",
    "plt.plot(data[:,0], data[:,1], '.', color=\"green\")\n",
    "plt.axis([-6, 2, -3, 6])\n",
    "plt.grid('True')"
   ]
  },
  {
   "cell_type": "markdown",
   "id": "1f77d017",
   "metadata": {},
   "source": [
    "### Center data"
   ]
  },
  {
   "cell_type": "code",
   "execution_count": 33,
   "id": "14307865",
   "metadata": {},
   "outputs": [
    {
     "name": "stdout",
     "output_type": "stream",
     "text": [
      "[[-1.         -1.72923602]\n",
      " [-0.91666667 -2.31313805]\n",
      " [-0.83333333 -1.53357509]\n",
      " [-0.75       -1.25175278]\n",
      " [-0.66666667 -1.33538298]\n",
      " [-0.58333333 -1.44242668]\n",
      " [-0.5        -1.3024938 ]\n",
      " [-0.41666667 -0.57335928]\n",
      " [-0.33333333 -0.99811249]\n",
      " [-0.25       -0.91221685]\n",
      " [-0.16666667 -0.14853018]\n",
      " [-0.08333333  0.28617002]\n",
      " [ 0.         -0.4966084 ]\n",
      " [ 0.08333333  0.17830227]\n",
      " [ 0.16666667  0.64539763]\n",
      " [ 0.25        0.6119694 ]\n",
      " [ 0.33333333  0.88786532]\n",
      " [ 0.41666667  0.62465274]\n",
      " [ 0.5         1.41721746]\n",
      " [ 0.58333333  1.38068579]\n",
      " [ 0.66666667  1.37532104]\n",
      " [ 0.75        1.14161338]\n",
      " [ 0.83333333  1.53945076]\n",
      " [ 0.91666667  2.00691029]\n",
      " [ 1.          1.94127651]]\n"
     ]
    },
    {
     "data": {
      "image/png": "[encoded data removed]",
      "text/plain": [
       "<Figure size 432x288 with 1 Axes>"
      ]
     },
     "metadata": {
      "needs_background": "light"
     },
     "output_type": "display_data"
    }
   ],
   "source": [
    "# center data by subtracting mean value from each feature\n",
    "# pay attention to mean_vector <-- we need it later for restoring our data\n",
    "# write 2 lines below\n",
    "mean_vector = (data[:,0].mean(), data[:,1].mean()) # your code here\n",
    "data_centered = data-mean_vector # your code here\n",
    "\n",
    "\n",
    "plt.title(\"Centered data\")\n",
    "plt.plot(data[:,0], data[:,1], '.', color=\"green\")\n",
    "plt.plot(data_centered[:,0], data_centered[:,1], '.', color=\"blue\")\n",
    "plt.axis([-6, 2, -3, 6])\n",
    "plt.grid('True')\n",
    "print(data_centered)"
   ]
  },
  {
   "cell_type": "markdown",
   "id": "318160c9",
   "metadata": {},
   "source": [
    "### Covariance matrix"
   ]
  },
  {
   "cell_type": "code",
   "execution_count": 34,
   "id": "73512543",
   "metadata": {},
   "outputs": [
    {
     "name": "stdout",
     "output_type": "stream",
     "text": [
      "Covariance matrix:\n",
      " [[0.37615741 0.76801889]\n",
      " [0.76801889 1.65019543]]\n",
      "cov(X,Y): 0.7680188927862999\n"
     ]
    }
   ],
   "source": [
    "# calculate covariance matrix for our centered data\n",
    "\n",
    "cov_mat = np.cov(data_centered.T) # your code here\n",
    "print('Covariance matrix:\\n', cov_mat)\n",
    "\n",
    "# Cov(x, y) = (1 / (n - 1)) * Sum_i(x_i * y_i)\n",
    "# also, to make sure you understand how to calculate covariance, calculate and print cov(X,Y)\n",
    "# check that it is the same as in the covariance matrix\n",
    "cov_xy = (1 / (len(data_centered) - 1)) * (np.sum([data_centered[i][0] * data_centered[i][1] for i in range (0, len(data_centered))])) # your code here\n",
    "print('cov(X,Y):', cov_xy)"
   ]
  },
  {
   "cell_type": "markdown",
   "id": "35cac464",
   "metadata": {},
   "source": [
    "### Eigenvectors and eigenvalues"
   ]
  },
  {
   "cell_type": "code",
   "execution_count": 35,
   "id": "dff620e8",
   "metadata": {},
   "outputs": [
    {
     "name": "stdout",
     "output_type": "stream",
     "text": [
      "eig_values: [0.01535567 2.01099716]\n",
      "eig_vectors:\n",
      " [[-0.90509952 -0.42519979]\n",
      " [ 0.42519979 -0.90509952]]\n",
      "\n",
      "sorteed eig_values: [2.01099716 0.01535567]\n",
      "sorted eig_vectors:\n",
      " [[-0.42519979 -0.90509952]\n",
      " [-0.90509952  0.42519979]]\n",
      "\n",
      "retained variance: [0.9924220143167379, 0.007577985683262181]\n"
     ]
    }
   ],
   "source": [
    "# compute eigenvectors and eigenvalues, print them\n",
    "eig_values, eig_vectors = np.linalg.eig(cov_mat) # your code here\n",
    "print('eig_values:', eig_values)\n",
    "print('eig_vectors:\\n', eig_vectors)\n",
    "\n",
    "\n",
    "# are they already in the needed order?\n",
    "# if not, order eigenvectors and eigenvalues by eigenvalues, descending\n",
    "\n",
    "idxs = np.argsort(eig_values)[::-1]\n",
    "eig_values = eig_values[idxs]\n",
    "eig_vectors = eig_vectors[:, idxs]\n",
    "\n",
    "print('\\nsorteed eig_values:', eig_values)\n",
    "print('sorted eig_vectors:\\n', eig_vectors)\n",
    "\n",
    "# estimate variance retained by each principal component\n",
    "retained_var = [eig_val/sum(eig_values) for eig_val in eig_values] # your code here\n",
    "print('\\nretained variance:',   retained_var)"
   ]
  },
  {
   "cell_type": "markdown",
   "id": "e751b1c4",
   "metadata": {},
   "source": [
    "### Project data ###"
   ]
  },
  {
   "cell_type": "code",
   "execution_count": 46,
   "id": "a3b5d8ab",
   "metadata": {},
   "outputs": [
    {
     "data": {
      "image/png": "[encoded data removed]",
      "text/plain": [
       "<Figure size 432x288 with 1 Axes>"
      ]
     },
     "metadata": {
      "needs_background": "light"
     },
     "output_type": "display_data"
    }
   ],
   "source": [
    "# project data to the first principal component\n",
    "first_pc = eig_vectors[:, :1]\n",
    "projected_data = np.dot(first_pc.T, data.T).T # your code here\n",
    "\n",
    "plt.title(\"Projected data\")\n",
    "plt.plot(data[:,0], data[:,1], '.', color=\"green\")\n",
    "plt.plot(data_centered[:,0], data_centered[:,1], '.', color=\"blue\")\n",
    "plt.plot(projected_data, np.zeros(len(projected_data)), '.', color=\"red\")\n",
    "plt.axis([-6, 3, -3, 6])\n",
    "plt.grid('True')"
   ]
  },
  {
   "cell_type": "markdown",
   "id": "2c362789",
   "metadata": {},
   "source": [
    "### Restore data back ###"
   ]
  },
  {
   "cell_type": "code",
   "execution_count": 47,
   "id": "a1c14ec3",
   "metadata": {},
   "outputs": [
    {
     "data": {
      "image/png": "[encoded data removed]",
      "text/plain": [
       "<Figure size 432x288 with 1 Axes>"
      ]
     },
     "metadata": {
      "needs_background": "light"
     },
     "output_type": "display_data"
    }
   ],
   "source": [
    "# Projected_data . first_pc.T + means\n",
    "# project data back to initial space\n",
    "# remember to add a mean_vector to the restored data\n",
    "\n",
    "restored_data = np.dot(projected_data, first_pc.T) + mean_vector # your code here\n",
    "\n",
    "plt.title(\"Restored data\")\n",
    "plt.plot(data[:,0], data[:,1], '.', color=\"green\")\n",
    "plt.plot(data_centered[:,0], data_centered[:,1], '.', color=\"blue\")\n",
    "plt.plot(restored_data[:,0], restored_data[:,1], '.', color=\"red\")\n",
    "#plt.axis([-6, 2, -3, 6])\n",
    "plt.grid('True')\n",
    "plt.show()"
   ]
  }
 ],
 "metadata": {
  "kernelspec": {
   "display_name": "Python 3.9.7 ('base')",
   "language": "python",
   "name": "python3"
  },
  "language_info": {
   "codemirror_mode": {
    "name": "ipython",
    "version": 3
   },
   "file_extension": ".py",
   "mimetype": "text/x-python",
   "name": "python",
   "nbconvert_exporter": "python",
   "pygments_lexer": "ipython3",
   "version": "3.9.7"
  },
  "vscode": {
   "interpreter": {
    "hash": "4683ccb96e0792e9401b27c1ea84d5f0f1a3e792342b873a3d568ad77591c84e"
   }
  }
 },
 "nbformat": 4,
 "nbformat_minor": 5
}
